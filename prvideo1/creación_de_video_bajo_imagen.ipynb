{
  "nbformat": 4,
  "nbformat_minor": 0,
  "metadata": {
    "colab": {
      "private_outputs": true,
      "provenance": [],
      "authorship_tag": "ABX9TyMwhUK7NYeqCR1MJchVoz/I",
      "include_colab_link": true
    },
    "kernelspec": {
      "name": "python3",
      "display_name": "Python 3"
    },
    "language_info": {
      "name": "python"
    }
  },
  "cells": [
    {
      "cell_type": "markdown",
      "metadata": {
        "id": "view-in-github",
        "colab_type": "text"
      },
      "source": [
        "<a href=\"https://colab.research.google.com/github/darwinyusef/wscrap_selenium_bs4_lexica/blob/master/prvideo1/creaci%C3%B3n_de_video_bajo_imagen.ipynb\" target=\"_parent\"><img src=\"https://colab.research.google.com/assets/colab-badge.svg\" alt=\"Open In Colab\"/></a>"
      ]
    },
    {
      "cell_type": "code",
      "source": [
        "!pip install opencv-python moviepy"
      ],
      "metadata": {
        "id": "SD-WQujFGmKQ"
      },
      "execution_count": null,
      "outputs": []
    },
    {
      "cell_type": "code",
      "source": [
        "!pip install pillow\n",
        "!pip install numpy"
      ],
      "metadata": {
        "id": "Y3I8B3HyO26M"
      },
      "execution_count": null,
      "outputs": []
    },
    {
      "cell_type": "code",
      "source": [
        "import os\n",
        "import cv2\n",
        "\n",
        "def resize_images(image_paths, output_dir, new_width, new_height):\n",
        "  \"\"\"\n",
        "  Resizes a list of images to the specified dimensions and saves them to the output directory.\n",
        "\n",
        "  Args:\n",
        "    image_paths (list): A list of paths to the input images.\n",
        "    output_dir (str): The path to the directory where the resized images will be saved.\n",
        "    new_width (int): The desired width of the resized images.\n",
        "    new_height (int): The desired height of the resized images.\n",
        "  \"\"\"\n",
        "\n",
        "  # Create the output directory if it doesn't exist\n",
        "  if not os.path.exists(output_dir):\n",
        "    os.makedirs(output_dir)\n",
        "\n",
        "  for image_path in image_paths:\n",
        "    # Extract filename from path\n",
        "    filename = os.path.basename(image_path)\n",
        "\n",
        "    # Read the image\n",
        "    img = cv2.imread(image_path)\n",
        "\n",
        "    # Check if image is read successfully\n",
        "    if img is None:\n",
        "      print(f\"Error reading image: {image_path}\")\n",
        "      continue\n",
        "\n",
        "    # Resize the image\n",
        "    resized_img = cv2.resize(img, (new_width, new_height))\n",
        "\n",
        "    # Save the resized image\n",
        "    output_path = os.path.join(output_dir, filename)\n",
        "    cv2.imwrite(output_path, resized_img)\n",
        "\n",
        "# Assuming your images are located in a directory called 'imagesvideo' within your current working directory\n",
        "image_paths = [f\"imagesvideo/{(0 if i <= 9 else '')}{i}.jpg\" for i in range(1, 21)]\n",
        "\n",
        "# Specify the desired output directory (create it if necessary)\n",
        "output_dir = \"resized_images\"\n",
        "\n",
        "# Set the new dimensions for the resized images\n",
        "new_width = 720  # Adjust these values as needed\n",
        "new_height = 1280\n",
        "\n",
        "# Resize the images\n",
        "resize_images(image_paths, output_dir, new_width, new_height)\n",
        "\n",
        "print(\"Images resized successfully!\")"
      ],
      "metadata": {
        "id": "_sMLmbwjR83E"
      },
      "execution_count": null,
      "outputs": []
    },
    {
      "cell_type": "code",
      "source": [
        "!pip install opencv-python"
      ],
      "metadata": {
        "id": "K_q1gNU2TOLb"
      },
      "execution_count": null,
      "outputs": []
    },
    {
      "cell_type": "code",
      "source": [
        "import cv2\n",
        "import os\n",
        "\n",
        "imagenes = []\n",
        "for i in range(1, 21):\n",
        "  ruta_imagen = (f\"/content/resized_images/{(0 if i <= 9 else '')}{i}.jpg\")\n",
        "  imagenes.append(cv2.imread(ruta_imagen))\n",
        "\n",
        "\n",
        "alto = int(imagenes[0].shape[0])\n",
        "ancho = imagenes[0].shape[1]\n",
        "\n",
        "print(alto, ancho);\n",
        "\n",
        "video_writer = cv2.VideoWriter(\"video.mp4\", cv2.VideoWriter_fourcc(*\"mp4v\"), 30, (ancho, alto))\n",
        "\n",
        "for imagen in imagenes:\n",
        "  for _ in range(3 * 30):\n",
        "    video_writer.write(imagen)\n",
        "\n",
        "video_writer.release()"
      ],
      "metadata": {
        "id": "ZfaPg4GcUDe9"
      },
      "execution_count": null,
      "outputs": []
    },
    {
      "cell_type": "code",
      "source": [
        "!pip install --upgrade moviepy\n"
      ],
      "metadata": {
        "id": "8TxhKaddV2Yk"
      },
      "execution_count": null,
      "outputs": []
    },
    {
      "cell_type": "code",
      "source": [
        "import moviepy.editor as mpe\n",
        "\n",
        "video = mpe.VideoFileClip(\"/content/video.mp4\")\n",
        "audio = mpe.AudioFileClip(\"/content/audio.mp3\")\n",
        "\n",
        "# Shorten the video to match the audio duration (avoiding potential rounding errors)\n",
        "shortest_clip = video.subclip(0, min(video.duration, audio.duration))\n",
        "\n",
        "# Set the shortened video's audio to the original audio\n",
        "video_con_audio = shortest_clip.set_audio(audio)\n",
        "\n",
        "video_con_audio.write_videofile(\"/content/video_con_audio.mp4\")"
      ],
      "metadata": {
        "id": "9yJEfSYwWnUD"
      },
      "execution_count": null,
      "outputs": []
    }
  ]
}